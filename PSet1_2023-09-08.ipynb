{
 "cells": [
  {
   "cell_type": "markdown",
   "metadata": {
    "id": "X4KAg1qwWLst"
   },
   "source": [
    "Problem set 1: Data importing and cleaning\n",
    "\n",
    "Due: 11:59pm on Friday, September 8 by uploading to github\n",
    "\n",
    "Your name:\n",
    "\n",
    "1. Data importing: \"data_finance.csv\" contains a dataset with information about sales transactions. Write the appropriate code for each of the tasks below. This section should be completed without generative AI, but with open access to static online resources like course material, stackoverflow, blogs with sample code, etc."
   ]
  },
  {
   "cell_type": "code",
   "execution_count": null,
   "metadata": {
    "id": "VNactcgqW8by"
   },
   "outputs": [],
   "source": [
    "# Load the pandas library\n",
    "\n",
    "# Import the CSV file 'data_finance.csv' into a DataFrame\n",
    "\n",
    "# Display the column names\n",
    "\n",
    "# Identify the data types of each column\n",
    "\n",
    "# Display the first 5 rows of the DataFrame\n",
    "\n",
    "# Display the last 5 rows of the DataFrame\n",
    "\n",
    "# Display a random sample of 5 rows\n",
    "\n",
    "# Calculate the total number of rows and columns in the DataFrame\n",
    "\n",
    "# Display summary statistics for the quantity and price columns\n"
   ]
  },
  {
   "cell_type": "markdown",
   "metadata": {
    "id": "k3x3SBG_blf2"
   },
   "source": [
    "2. Generative AI comparison. Use a reliable generative AI like ChatGPT, Claude, Bing, Jupyter AI, etc. to answer the same questions as Section 1. You should alter the prompt given to the AI to maximize the accuracy and efficiency of its output. Paste both your prompt and the generative AI's output below."
   ]
  },
  {
   "cell_type": "code",
   "execution_count": null,
   "metadata": {
    "id": "nxpB15SMbnmI"
   },
   "outputs": [],
   "source": [
    "# Prompt\n",
    "\n",
    "# AI generated code\n"
   ]
  },
  {
   "cell_type": "markdown",
   "metadata": {
    "id": "PZiy5JolYBnB"
   },
   "source": [
    "3. Data cleaning: \"data_students.tsv\" contains a dataset with information about students. Write the appropriate code for each of the tasks below. This section should be completed without generative AI, but with open access to static online resources like course material, stackoverflow, blogs with sample code, etc."
   ]
  },
  {
   "cell_type": "code",
   "execution_count": null,
   "metadata": {
    "id": "FW5woMoyYNd9"
   },
   "outputs": [],
   "source": [
    "\n",
    "# Import \"data_students.tsv\" into a dataframe\n",
    "\n",
    "# Rename the columns to improve machine and human-readability\n",
    "\n",
    "# Display the number of missing values in each column\n",
    "\n",
    "# Create a new column identifying whether the age column is missing\n",
    "\n",
    "# Replace missing values in the 'age' column with the mean age\n",
    "\n",
    "# Convert the 'gender' column to lowercase\n",
    "\n",
    "# Split the location column into separate columns for city and state\n",
    "\n",
    "# Save the cleaned data to a new CSV file with an appropriate name\n"
   ]
  },
  {
   "cell_type": "markdown",
   "metadata": {
    "id": "lcCTq1i-bzGI"
   },
   "source": [
    "4. Generative AI comparison. Use a reliable generative AI like ChatGPT, Claude, Bing, Jupyter AI, etc. to answer the same questions as Section 3. You should alter the prompt given to the AI to maximize the accuracy and efficiency of its output. Paste both your prompt and the generative AI's output below."
   ]
  },
  {
   "cell_type": "markdown",
   "metadata": {
    "id": "5rFyq2Oyb2dR"
   },
   "source": [
    "5. Generative AI evaluation. Compare the code you produced using static sources to that produced by the generative AI. Write 2-3 paragraphs evaluating the strengths and weaknesses of both approaches. In doing so, you should answer the following questions:\n",
    "* Having now seen the code produced by Generative AI, how would you have written your code differently?\n",
    "* Where does Generative AI excel, and where did it fall short?\n",
    "* What was important in writing your prompt?"
   ]
  }
 ],
 "metadata": {
  "colab": {
   "provenance": []
  },
  "kernelspec": {
   "display_name": "Python 3 (ipykernel)",
   "language": "python",
   "name": "python3"
  },
  "language_info": {
   "codemirror_mode": {
    "name": "ipython",
    "version": 3
   },
   "file_extension": ".py",
   "mimetype": "text/x-python",
   "name": "python",
   "nbconvert_exporter": "python",
   "pygments_lexer": "ipython3",
   "version": "3.11.4"
  }
 },
 "nbformat": 4,
 "nbformat_minor": 1
}
